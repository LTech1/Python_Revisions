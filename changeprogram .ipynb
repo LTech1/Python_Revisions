{
 "cells": [
  {
   "cell_type": "code",
   "execution_count": 35,
   "metadata": {},
   "outputs": [
    {
     "name": "stdout",
     "output_type": "stream",
     "text": [
      "please enter an amount  87.    60\n",
      "2 quarters\n"
     ]
    }
   ],
   "source": [
    "c=int(input(\"please enter an amount  87.\"))\n",
    "print(c//25, \"quarters\")"
   ]
  },
  {
   "cell_type": "code",
   "execution_count": 36,
   "metadata": {},
   "outputs": [
    {
     "name": "stdout",
     "output_type": "stream",
     "text": [
      "6 dimes\n"
     ]
    }
   ],
   "source": [
    "print(c//10, 'dimes')"
   ]
  },
  {
   "cell_type": "code",
   "execution_count": 37,
   "metadata": {},
   "outputs": [
    {
     "name": "stdout",
     "output_type": "stream",
     "text": [
      "12 nickles\n"
     ]
    }
   ],
   "source": [
    "print(c//5, \"nickles\")"
   ]
  },
  {
   "cell_type": "code",
   "execution_count": 38,
   "metadata": {},
   "outputs": [
    {
     "name": "stdout",
     "output_type": "stream",
     "text": [
      "60 pennies\n"
     ]
    }
   ],
   "source": [
    "print(c//1, \"pennies\")"
   ]
  },
  {
   "cell_type": "code",
   "execution_count": 26,
   "metadata": {},
   "outputs": [
    {
     "name": "stdout",
     "output_type": "stream",
     "text": [
      "please an amount in from  0 - 8750\n",
      "2 quaters\n",
      "0 dimes\n",
      "0 nickles\n",
      "0 pennies\n"
     ]
    }
   ],
   "source": [
    "c=int(input(\"please an amount in from  0 - 87\"))\n",
    "print(c//25, \"quaters\")\n",
    "c = c%25\n",
    "print(c//10, \"dimes\")\n",
    "c = c%10\n",
    "print(c//5, \"nickles\")\n",
    "c =c%5\n",
    "print(c//1, \"pennies\")\n",
    "#c= cash "
   ]
  },
  {
   "cell_type": "code",
   "execution_count": 29,
   "metadata": {},
   "outputs": [
    {
     "ename": "SyntaxError",
     "evalue": "invalid syntax (<ipython-input-29-424901324038>, line 10)",
     "output_type": "error",
     "traceback": [
      "\u001b[1;36m  File \u001b[1;32m\"<ipython-input-29-424901324038>\"\u001b[1;36m, line \u001b[1;32m10\u001b[0m\n\u001b[1;33m    print \"Changed Owed: \" + str(u)\u001b[0m\n\u001b[1;37m          ^\u001b[0m\n\u001b[1;31mSyntaxError\u001b[0m\u001b[1;31m:\u001b[0m invalid syntax\n"
     ]
    }
   ],
   "source": [
    "# this program demonstrate the change machine program \n",
    "\n",
    "user_amount = float(input(\"Enter the amountpaid:\"))\n",
    "user_price = float(input(\"Enter the price:\"))\n",
    "#now lets work on the change: \n",
    "user_owe = user_amount - user_price\n",
    "\n",
    "u = float(user_owe)\n",
    "\n",
    "print \"Changed Owed: \" + str(u)\n",
    "calculate_quarters = u//.25\n",
    "round(calculate_quarters)\n"
   ]
  },
  {
   "cell_type": "code",
   "execution_count": 34,
   "metadata": {},
   "outputs": [
    {
     "name": "stdout",
     "output_type": "stream",
     "text": [
      "Enter the amount paid : 30\n",
      "Enter the price : 12\n",
      "user_owe = user_amount - user_price\n"
     ]
    }
   ],
   "source": [
    "\n",
    "#def variables\n",
    "user_amount = float(input(\"Enter the amount paid : \"))\n",
    "user_price = float(input(\"Enter the price : \"))\n",
    "\n",
    "\n",
    "# What is the change ?? (change calculation)\n",
    "user_owe = user_amount - user_price\n",
    "\n",
    "print(\"user_owe = user_amount - user_price\")"
   ]
  },
  {
   "cell_type": "code",
   "execution_count": null,
   "metadata": {},
   "outputs": [],
   "source": []
  }
 ],
 "metadata": {
  "kernelspec": {
   "display_name": "Python 3",
   "language": "python",
   "name": "python3"
  },
  "language_info": {
   "codemirror_mode": {
    "name": "ipython",
    "version": 3
   },
   "file_extension": ".py",
   "mimetype": "text/x-python",
   "name": "python",
   "nbconvert_exporter": "python",
   "pygments_lexer": "ipython3",
   "version": "3.8.5"
  }
 },
 "nbformat": 4,
 "nbformat_minor": 4
}
