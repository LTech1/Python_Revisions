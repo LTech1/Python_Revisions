{
 "cells": [
  {
   "cell_type": "code",
   "execution_count": 1,
   "metadata": {},
   "outputs": [
    {
     "name": "stdout",
     "output_type": "stream",
     "text": [
      "my name is elvis!\n"
     ]
    }
   ],
   "source": [
    "if True:\n",
    "    print(\"my name is elvis!\")"
   ]
  },
  {
   "cell_type": "code",
   "execution_count": 2,
   "metadata": {},
   "outputs": [
    {
     "name": "stdout",
     "output_type": "stream",
     "text": [
      "i am a cameroonian\n"
     ]
    }
   ],
   "source": [
    "if True:\n",
    "    print(\"i am a cameroonian\")"
   ]
  },
  {
   "cell_type": "code",
   "execution_count": 6,
   "metadata": {},
   "outputs": [
    {
     "name": "stdout",
     "output_type": "stream",
     "text": [
      "i will be printed in any case where Elvis is not true\n"
     ]
    }
   ],
   "source": [
    "Elvis = False\n",
    "name = Elvis\n",
    "if Elvis:\n",
    "    print('my name is elvis')\n",
    "else:\n",
    "    print('i will be printed in any case where Elvis is not true')"
   ]
  },
  {
   "cell_type": "code",
   "execution_count": 8,
   "metadata": {},
   "outputs": [
    {
     "name": "stdout",
     "output_type": "stream",
     "text": [
      "where were you born?\n"
     ]
    }
   ],
   "source": [
    "country = 'Canada'\n",
    "if country == 'America':\n",
    "    print('welcome to America!')\n",
    "elif country == 'Cananda':\n",
    "    print('welcome to Canada!')\n",
    "else:\n",
    "    print('where were you born?')"
   ]
  },
  {
   "cell_type": "code",
   "execution_count": 9,
   "metadata": {},
   "outputs": [
    {
     "name": "stdout",
     "output_type": "stream",
     "text": [
      "I am studying software engineering\n"
     ]
    }
   ],
   "source": [
    "student = 'Joyce'\n",
    "if student == 'Elvis':\n",
    "    print('this is 2021!')\n",
    "elif student == 'Joyce':\n",
    "    print('I am studying software engineering')\n",
    "else:\n",
    "    print('i would graudte top of my class')"
   ]
  },
  {
   "cell_type": "code",
   "execution_count": 12,
   "metadata": {},
   "outputs": [
    {
     "name": "stdout",
     "output_type": "stream",
     "text": [
      "This year is gonna be great!\n"
     ]
    }
   ],
   "source": [
    "item =  ' Books'\n",
    "if item == 'Cars':\n",
    "    print('I love suv!')\n",
    "elif item == 'Books':\n",
    "    print(\" i love shakespears!\")\n",
    "else:\n",
    "    print('This year is gonna be great!')"
   ]
  },
  {
   "cell_type": "code",
   "execution_count": 13,
   "metadata": {},
   "outputs": [
    {
     "name": "stdout",
     "output_type": "stream",
     "text": [
      "Dev is all about automotion!\n"
     ]
    }
   ],
   "source": [
    "program = 'Dev'\n",
    "if program == 'linux':\n",
    "    print('I love commands!')\n",
    "elif program == 'Dev':\n",
    "    print('Dev is all about automotion!')\n",
    "else:\n",
    "    print('I love devops')"
   ]
  },
  {
   "cell_type": "code",
   "execution_count": 16,
   "metadata": {},
   "outputs": [
    {
     "name": "stdout",
     "output_type": "stream",
     "text": [
      "I love streaming multiple movies and shows \n"
     ]
    }
   ],
   "source": [
    "client = 'Netflix'\n",
    "if client ==    'Google':\n",
    "    print('I love having multiple gmail accounts')\n",
    "elif client == 'Netflix':\n",
    "    print('I love streaming multiple movies and shows ')\n",
    "else:\n",
    "    print('I study most of the time')"
   ]
  },
  {
   "cell_type": "code",
   "execution_count": 18,
   "metadata": {},
   "outputs": [
    {
     "name": "stdout",
     "output_type": "stream",
     "text": [
      "Happy birthday Elvis\n"
     ]
    }
   ],
   "source": [
    "Birthday = 'January 30'\n",
    "if Birthday == 'June 14':\n",
    "    print('Happy birthday Joyce')\n",
    "elif Birthday == 'January 30':\n",
    "    print('Happy birthday Elvis')\n",
    "else:\n",
    "    print('It was great having you all at this very special occation. see you all nexrt time , i love you. Thank you!')"
   ]
  },
  {
   "cell_type": "code",
   "execution_count": 23,
   "metadata": {},
   "outputs": [
    {
     "name": "stdout",
     "output_type": "stream",
     "text": [
      "I  verbal warning maybe issued and entered into employee record\n"
     ]
    }
   ],
   "source": [
    "lateness = '7am'\n",
    "if lateness == '730':\n",
    "    print('this is you first warning')\n",
    "elif lateness == '8m':\n",
    "    print('report to you line supervisor immidiately')\n",
    "else:\n",
    "    print('I  verbal warning maybe issued and entered into employee record')"
   ]
  },
  {
   "cell_type": "code",
   "execution_count": 24,
   "metadata": {},
   "outputs": [
    {
     "name": "stdout",
     "output_type": "stream",
     "text": [
      "How much do you want to withdraw\n"
     ]
    }
   ],
   "source": [
    "Balances = '5000'\n",
    "if Balances == '0':\n",
    "    print('sorry insufficient funds!')\n",
    "elif Balances == '5000':\n",
    "    print('How much do you want to withdraw')\n",
    "else:\n",
    "    print('Do you need a credit at this time')"
   ]
  },
  {
   "cell_type": "code",
   "execution_count": 27,
   "metadata": {},
   "outputs": [
    {
     "name": "stdout",
     "output_type": "stream",
     "text": [
      "Good job team, you have earned your team a vacation to the Carreabeans and 1% salary increase\n"
     ]
    }
   ],
   "source": [
    "profit = '70000'\n",
    "if profit == '60000':\n",
    "    print('Performance evaluatioin and critical review required, project is running at a lost')\n",
    "elif profit  == '70000':\n",
    "    print('Good job team, you have earned your team a vacation to the Carreabeans and 1% salary increase')\n",
    "else:\n",
    "    print('Because team didnt meet required profit margin, its important to review what went wrong and how it can be fixed')"
   ]
  },
  {
   "cell_type": "code",
   "execution_count": null,
   "metadata": {},
   "outputs": [],
   "source": []
  }
 ],
 "metadata": {
  "kernelspec": {
   "display_name": "Python 3",
   "language": "python",
   "name": "python3"
  },
  "language_info": {
   "codemirror_mode": {
    "name": "ipython",
    "version": 3
   },
   "file_extension": ".py",
   "mimetype": "text/x-python",
   "name": "python",
   "nbconvert_exporter": "python",
   "pygments_lexer": "ipython3",
   "version": "3.8.5"
  }
 },
 "nbformat": 4,
 "nbformat_minor": 4
}
